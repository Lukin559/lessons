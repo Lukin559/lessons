{
  "nbformat": 4,
  "nbformat_minor": 0,
  "metadata": {
    "colab": {
      "name": "Функция определения реальности дня.ipynb",
      "provenance": [],
      "authorship_tag": "ABX9TyOm3pWSlUHxOEAvso3Mm9Qu",
      "include_colab_link": true
    },
    "kernelspec": {
      "name": "python3",
      "display_name": "Python 3"
    }
  },
  "cells": [
    {
      "cell_type": "markdown",
      "metadata": {
        "id": "view-in-github",
        "colab_type": "text"
      },
      "source": [
        "<a href=\"https://colab.research.google.com/github/Lukin559/lessons/blob/master/%D0%A4%D1%83%D0%BD%D0%BA%D1%86%D0%B8%D1%8F_%D0%BE%D0%BF%D1%80%D0%B5%D0%B4%D0%B5%D0%BB%D0%B5%D0%BD%D0%B8%D1%8F_%D1%80%D0%B5%D0%B0%D0%BB%D1%8C%D0%BD%D0%BE%D1%81%D1%82%D0%B8_%D0%B4%D0%BD%D1%8F.ipynb\" target=\"_parent\"><img src=\"https://colab.research.google.com/assets/colab-badge.svg\" alt=\"Open In Colab\"/></a>"
      ]
    },
    {
      "cell_type": "code",
      "metadata": {
        "id": "qVgfBF89pqE-"
      },
      "source": [
        "def leap_year(x):\n",
        "  if x % 4 == 0 and not x % 100 == 0:\n",
        "      return True\n",
        "  elif  x % 400 == 0:\n",
        "      return True\n",
        "  else:\n",
        "      return False\n",
        "\n",
        "\n",
        "def is_it_real_date_or_no(day, month, year):\n",
        "  if day > 31 or day < 1:\n",
        "    return False\n",
        "  if month > 12 or month < 1:\n",
        "    return False\n",
        "  if year < 1:\n",
        "    return False\n",
        "  if month in ( 4, 6, 9, 11) and day > 30:\n",
        "    return False\n",
        "  if month in ( 4, 6, 9, 11) and day < 31 and day > 0:\n",
        "    return True\n",
        "  if month in (1, 3, 5, 7, 8, 10, 12) and day < 32 and day > 0:\n",
        "    return True\n",
        "  if leap_year(year) == False and month == 2 and day > 28:\n",
        "    return False\n",
        "  if leap_year(year) == True and month == 2 and day < 30 and day > 0:\n",
        "    return True\n",
        "  if leap_year(year) == False and month == 2 and day < 29 and day > 0:\n",
        "    return True\n",
        "  if leap_year(year) == True and month == 2 and day > 29 or day < 0:\n",
        "    return False"
      ],
      "execution_count": null,
      "outputs": []
    }
  ]
}