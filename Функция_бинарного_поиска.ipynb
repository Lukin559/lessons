{
  "nbformat": 4,
  "nbformat_minor": 0,
  "metadata": {
    "colab": {
      "name": "Функция бинарного поиска.ipynb",
      "provenance": [],
      "collapsed_sections": [],
      "authorship_tag": "ABX9TyPEZIhlCEcxBhLo/aHi+ghA",
      "include_colab_link": true
    },
    "kernelspec": {
      "name": "python3",
      "display_name": "Python 3"
    }
  },
  "cells": [
    {
      "cell_type": "markdown",
      "metadata": {
        "id": "view-in-github",
        "colab_type": "text"
      },
      "source": [
        "<a href=\"https://colab.research.google.com/github/Lukin559/lessons/blob/master/%D0%A4%D1%83%D0%BD%D0%BA%D1%86%D0%B8%D1%8F_%D0%B1%D0%B8%D0%BD%D0%B0%D1%80%D0%BD%D0%BE%D0%B3%D0%BE_%D0%BF%D0%BE%D0%B8%D1%81%D0%BA%D0%B0.ipynb\" target=\"_parent\"><img src=\"https://colab.research.google.com/assets/colab-badge.svg\" alt=\"Open In Colab\"/></a>"
      ]
    },
    {
      "cell_type": "code",
      "metadata": {
        "id": "WFr_vrJ_Kdf2",
        "colab_type": "code",
        "colab": {}
      },
      "source": [
        "import random\n",
        "\n",
        "seq = list(range(1, 15))\n",
        "\n",
        "x = random.choice(seq)\n",
        "\n",
        "\n",
        "def binary_search(x, seq) -> None:\n",
        "  print('Старт бинарного поиска')\n",
        "  len_seq = len(seq)\n",
        "  ind = len_seq // 2\n",
        "  counter = 0\n",
        "  mid_el = seq[ind]\n",
        "\n",
        "  while mid_el != x:\n",
        "    #counter = counter + 1\n",
        "    counter += 1\n",
        "    print('Шаг ', counter)\n",
        "    len_seq = len(seq)\n",
        "    ind = len_seq // 2\n",
        "    mid_el = seq[ind]\n",
        "    #print(mid_el)\n",
        "    if mid_el == x:\n",
        "      print('Найденное число ', x)\n",
        "      print('Количество шагов ', counter)\n",
        "      break\n",
        "    elif x < mid_el:\n",
        "      seq = seq[:ind]\n",
        "      #print(len(seq), seq)\n",
        "    elif x > mid_el:\n",
        "      seq = seq[ind:]\n",
        "    \n",
        "      #print(len(seq), seq)\n",
        "    #print(ind)\n",
        "\n",
        "\n",
        "\n",
        "\n",
        "\n",
        "\n",
        "\n",
        "\n"
      ],
      "execution_count": 6,
      "outputs": []
    },
    {
      "cell_type": "code",
      "metadata": {
        "id": "METHTUZIwF-J",
        "colab_type": "code",
        "colab": {
          "base_uri": "https://localhost:8080/",
          "height": 136
        },
        "outputId": "ed30db34-c7ca-4585-f688-e43c9a96ea04"
      },
      "source": [
        "binary_search(x, seq)"
      ],
      "execution_count": 7,
      "outputs": [
        {
          "output_type": "stream",
          "text": [
            "Старт бинарного поиска\n",
            "Шаг  1\n",
            "Шаг  2\n",
            "Шаг  3\n",
            "Шаг  4\n",
            "Найденное число  12\n",
            "Количество шагов  4\n"
          ],
          "name": "stdout"
        }
      ]
    },
    {
      "cell_type": "code",
      "metadata": {
        "id": "NN9Ks5cayY7P",
        "colab_type": "code",
        "colab": {
          "base_uri": "https://localhost:8080/",
          "height": 34
        },
        "outputId": "e8d49725-9c63-4fa5-f1a4-75f219b81a1c"
      },
      "source": [
        "x"
      ],
      "execution_count": null,
      "outputs": [
        {
          "output_type": "execute_result",
          "data": {
            "text/plain": [
              "14"
            ]
          },
          "metadata": {
            "tags": []
          },
          "execution_count": 13
        }
      ]
    }
  ]
}