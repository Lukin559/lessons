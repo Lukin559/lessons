{
  "nbformat": 4,
  "nbformat_minor": 0,
  "metadata": {
    "colab": {
      "name": "Сортировка пузырьком.ipynb",
      "provenance": [],
      "authorship_tag": "ABX9TyMb78yw9zII4YCJVyAZZVNq",
      "include_colab_link": true
    },
    "kernelspec": {
      "name": "python3",
      "display_name": "Python 3"
    }
  },
  "cells": [
    {
      "cell_type": "markdown",
      "metadata": {
        "id": "view-in-github",
        "colab_type": "text"
      },
      "source": [
        "<a href=\"https://colab.research.google.com/github/Lukin559/lessons/blob/master/%D0%A1%D0%BE%D1%80%D1%82%D0%B8%D1%80%D0%BE%D0%B2%D0%BA%D0%B0_%D0%BF%D1%83%D0%B7%D1%8B%D1%80%D1%8C%D0%BA%D0%BE%D0%BC.ipynb\" target=\"_parent\"><img src=\"https://colab.research.google.com/assets/colab-badge.svg\" alt=\"Open In Colab\"/></a>"
      ]
    },
    {
      "cell_type": "code",
      "metadata": {
        "id": "ZIgsHPCgk0Gf",
        "colab": {
          "base_uri": "https://localhost:8080/"
        },
        "outputId": "b6c71d71-3403-48a7-ac72-839b4132f37b"
      },
      "source": [
        "l = [1, 3, 2, 5, 4, 15, 7, -4]\n",
        "for i in range(len(l)-1):\n",
        "  if l[i] > l[i+1]:\n",
        "    l[i+1], l[i] = l[i], l[i+1]\n",
        "  for d in range(len(l)-1):\n",
        "    if l[d] > l[d+1]:\n",
        "      l[d+1], l[d] = l[d], l[d+1]\n",
        "\n",
        "l"
      ],
      "execution_count": null,
      "outputs": [
        {
          "output_type": "execute_result",
          "data": {
            "text/plain": [
              "[-4, 1, 2, 3, 4, 5, 7, 15]"
            ]
          },
          "metadata": {
            "tags": []
          },
          "execution_count": 12
        }
      ]
    }
  ]
}