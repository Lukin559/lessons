{
  "nbformat": 4,
  "nbformat_minor": 0,
  "metadata": {
    "colab": {
      "name": "pythontutor.ipynb",
      "provenance": [],
      "authorship_tag": "ABX9TyPvIJKmyIp6X40sj6YaxAXd",
      "include_colab_link": true
    },
    "kernelspec": {
      "name": "python3",
      "display_name": "Python 3"
    }
  },
  "cells": [
    {
      "cell_type": "markdown",
      "metadata": {
        "id": "view-in-github",
        "colab_type": "text"
      },
      "source": [
        "<a href=\"https://colab.research.google.com/github/Lukin559/lessons/blob/master/pythontutor.ipynb\" target=\"_parent\"><img src=\"https://colab.research.google.com/assets/colab-badge.svg\" alt=\"Open In Colab\"/></a>"
      ]
    },
    {
      "cell_type": "code",
      "metadata": {
        "id": "3gFIJs3Aj6hX"
      },
      "source": [
        "# Знак числа\n",
        "x = int(input())\n",
        "if x > 0:\n",
        "    print(1)\n",
        "elif x < 0:\n",
        "    print(-1)\n",
        "elif x == 0:\n",
        "    print(0)\n"
      ],
      "execution_count": null,
      "outputs": []
    },
    {
      "cell_type": "code",
      "metadata": {
        "id": "MbfwHDt3kCFL"
      },
      "source": [
        "#  Минимум из двух чисел\n",
        "first_n = input()\n",
        "second_n = input()\n",
        "\n",
        "if first_n > second_n:\n",
        "    print(second_n)\n",
        "elif first_n < second_n:\n",
        "    print(first_n)\n",
        "else first_n == second_n:\n",
        "    print(first_n)"
      ],
      "execution_count": null,
      "outputs": []
    },
    {
      "cell_type": "code",
      "metadata": {
        "id": "bswJo85IkRYy"
      },
      "source": [
        "# Шахматная доска\n",
        "a = int(input())\n",
        "b = int(input())\n",
        "c = int(input())\n",
        "d = int(input())\n",
        "\n",
        "if (a + b) % 2 == 0 and (c + d) % 2 == 0:\n",
        "  print('YES')\n",
        "elif (a + b) % 2 != 0 and (c + d) % 2 != 0:\n",
        "  print('YES')\n",
        "elif (a + b) % 2 != 0 and (c + d) % 2 == 0:\n",
        "  print('NO')\n",
        "elif (a + b) % 2 == 0 and (c + d) % 2 != 0:\n",
        "\n"
      ],
      "execution_count": null,
      "outputs": []
    },
    {
      "cell_type": "code",
      "metadata": {
        "id": "ymSK8U6ktvYj",
        "outputId": "381ab912-bec1-4786-8cee-ac4b5cbf4817",
        "colab": {
          "base_uri": "https://localhost:8080/",
          "height": 102
        }
      },
      "source": [
        "a = int(input())\n",
        "b = int(input())\n",
        "c = int(input())\n",
        "d = int(input())\n",
        "a_b = a + b\n",
        "c_d = c + d\n",
        "if a_b % 2 == 0 and c_d % 2 == 0:\n",
        "  print('YES')\n",
        "elif a_b % 2 != 0 and c_d % 2 != 0:\n",
        "  print('YES')\n",
        "elif a_b % 2 != 0 and c_d % 2 == 0:\n",
        "  print('NO')\n",
        "elif a_b % 2 == 0 and c_d % 2 != 0:\n",
        "  print('NO')"
      ],
      "execution_count": null,
      "outputs": [
        {
          "output_type": "stream",
          "text": [
            "1\n",
            "1\n",
            "2\n",
            "6\n",
            "YES\n"
          ],
          "name": "stdout"
        }
      ]
    },
    {
      "cell_type": "code",
      "metadata": {
        "id": "DSbw_f8enqdq"
      },
      "source": [
        "# Високосный год\n",
        "x = int(input())\n",
        "\n",
        "if x % 4 == 0 and not x % 100 == 0:\n",
        "    print('YES')\n",
        "elif  x % 400 == 0:\n",
        "    print('YES')\n",
        "else:\n",
        "    print('NO')"
      ],
      "execution_count": null,
      "outputs": []
    },
    {
      "cell_type": "code",
      "metadata": {
        "id": "XdXuWYlPoi9q",
        "outputId": "dd067fff-287d-4f4c-d176-300e20e78841",
        "colab": {
          "base_uri": "https://localhost:8080/",
          "height": 85
        }
      },
      "source": [
        "# Минимум из трех чисел\n",
        "first_n = int(input())\n",
        "second_n = int(input())\n",
        "third_n = int(input())\n",
        "\n",
        "if first_n < second_n and first_n < third_n:\n",
        "  print(first_n)\n",
        "elif second_n < first_n and second_n < third_n:\n",
        "  print(second_n)\n",
        "elif third_n < first_n and third_n < second_n:\n",
        "  print(third_n)\n",
        "else:\n",
        "  print('Все числа равны')"
      ],
      "execution_count": null,
      "outputs": [
        {
          "output_type": "stream",
          "text": [
            "10\n",
            "30\n",
            "4\n",
            "4\n"
          ],
          "name": "stdout"
        }
      ]
    },
    {
      "cell_type": "code",
      "metadata": {
        "id": "Oa1zCoVz3v93",
        "outputId": "77229725-e871-406e-9f3f-16c92dfa9991",
        "colab": {
          "base_uri": "https://localhost:8080/",
          "height": 51
        }
      },
      "source": [
        "# Факториал числа\n",
        "n = int(input())\n",
        "x = 1\n",
        "for i in range(1, n + 1):\n",
        "    x *= i\n",
        "print(x)"
      ],
      "execution_count": 1,
      "outputs": [
        {
          "output_type": "stream",
          "text": [
            "4\n",
            "24\n"
          ],
          "name": "stdout"
        }
      ]
    },
    {
      "cell_type": "code",
      "metadata": {
        "id": "-yCLGa3M7Th3"
      },
      "source": [
        "# Количесвто нулей\n",
        "n = int(input())\n",
        "x = 0\n",
        "for _ in range(n):\n",
        "    c = int(input())\n",
        "    if c == 0:\n",
        "        x +=1\n",
        "        \n",
        "print(x)"
      ],
      "execution_count": null,
      "outputs": []
    },
    {
      "cell_type": "code",
      "metadata": {
        "id": "bizCeUoWY_Jr",
        "outputId": "016def5c-cac1-42f3-d603-6b6dd27f5454",
        "colab": {
          "base_uri": "https://localhost:8080/",
          "height": 51
        }
      },
      "source": [
        "# Сумма 10 чисел\n",
        "a = list(map(int, input().split()))\n",
        "x = 0\n",
        "for i in a:\n",
        "  x += i\n",
        "\n",
        "print(x)\n"
      ],
      "execution_count": 18,
      "outputs": [
        {
          "output_type": "stream",
          "text": [
            "0 1 2 3 4 5 6 7 8 9\n",
            "45\n"
          ],
          "name": "stdout"
        }
      ]
    },
    {
      "cell_type": "code",
      "metadata": {
        "id": "PgzWDWqifzVK",
        "outputId": "76a15717-90ec-429b-cb7d-fe5851450ef6",
        "colab": {
          "base_uri": "https://localhost:8080/",
          "height": 136
        }
      },
      "source": [
        "# Ряд 1\n",
        "a = int(input())\n",
        "b = int(input())\n",
        "for i in range(a, b + 1):\n",
        "  print(i)"
      ],
      "execution_count": 21,
      "outputs": [
        {
          "output_type": "stream",
          "text": [
            "1\n",
            "5\n",
            "1\n",
            "2\n",
            "3\n",
            "4\n",
            "5\n"
          ],
          "name": "stdout"
        }
      ]
    },
    {
      "cell_type": "code",
      "metadata": {
        "id": "wnoEW7_-oDjT"
      },
      "source": [
        "# Сумма n чисел\n",
        "n = int(input())\n",
        "x = 0\n",
        "for _ in range(n):\n",
        "    c = int(input())\n",
        "    x += c\n",
        "print(x)"
      ],
      "execution_count": null,
      "outputs": []
    },
    {
      "cell_type": "code",
      "metadata": {
        "id": "v_84E5voyuSQ",
        "outputId": "655ca8ba-af03-4c42-9abc-bb7a7cd16a29",
        "colab": {
          "base_uri": "https://localhost:8080/",
          "height": 68
        }
      },
      "source": [
        "# Совершенное число\n",
        "n = 1000\n",
        "for d in range(1, n + 1):\n",
        "#  print(\"Число\", d)\n",
        "  sum = 0\n",
        "  for g in range(1, d):   \n",
        "    if d % g == 0:\n",
        "      sum += g\n",
        "#  print(sum)\n",
        "  if sum == d:\n",
        "    print(\"Совершенное число\", d)\n",
        "    \n",
        "\n"
      ],
      "execution_count": 35,
      "outputs": [
        {
          "output_type": "stream",
          "text": [
            "Совершенное число 6\n",
            "Совершенное число 28\n",
            "Совершенное число 496\n"
          ],
          "name": "stdout"
        }
      ]
    },
    {
      "cell_type": "code",
      "metadata": {
        "id": "XPGPwNRz9Zgv",
        "outputId": "b029dd55-b9f0-4f38-c7b6-605488df7648",
        "colab": {
          "base_uri": "https://localhost:8080/",
          "height": 34
        }
      },
      "source": [
        "int(3.9)"
      ],
      "execution_count": 37,
      "outputs": [
        {
          "output_type": "execute_result",
          "data": {
            "text/plain": [
              "3"
            ]
          },
          "metadata": {
            "tags": []
          },
          "execution_count": 37
        }
      ]
    }
  ]
}