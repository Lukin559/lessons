{
  "nbformat": 4,
  "nbformat_minor": 0,
  "metadata": {
    "colab": {
      "name": "Homework6.ipynb",
      "provenance": [],
      "authorship_tag": "ABX9TyPkBXQPVmLKgCMqzEA5klGI",
      "include_colab_link": true
    },
    "kernelspec": {
      "name": "python3",
      "display_name": "Python 3"
    }
  },
  "cells": [
    {
      "cell_type": "markdown",
      "metadata": {
        "id": "view-in-github",
        "colab_type": "text"
      },
      "source": [
        "<a href=\"https://colab.research.google.com/github/Lukin559/lessons/blob/master/Homework6.ipynb\" target=\"_parent\"><img src=\"https://colab.research.google.com/assets/colab-badge.svg\" alt=\"Open In Colab\"/></a>"
      ]
    },
    {
      "cell_type": "code",
      "metadata": {
        "id": "ZWI2TOyi1dtB",
        "colab_type": "code",
        "colab": {
          "base_uri": "https://localhost:8080/",
          "height": 34
        },
        "outputId": "9b95ab97-6e3b-4b4d-dec1-793f32304781"
      },
      "source": [
        "list_1 = ['one', 'two', 'three', 'four', 'five',]\n",
        "\n",
        "list_2 = [1, 2, 3, 4, 5,]\n",
        "\n",
        "list_dict = dict(zip(list_1, list_2))\n",
        "\n",
        "list_dict"
      ],
      "execution_count": 50,
      "outputs": [
        {
          "output_type": "execute_result",
          "data": {
            "text/plain": [
              "{'five': 5, 'four': 4, 'one': 1, 'three': 3, 'two': 2}"
            ]
          },
          "metadata": {
            "tags": []
          },
          "execution_count": 50
        }
      ]
    },
    {
      "cell_type": "code",
      "metadata": {
        "id": "8hSyefsHZSQO",
        "colab_type": "code",
        "colab": {
          "base_uri": "https://localhost:8080/",
          "height": 153
        },
        "outputId": "26c19b79-2a9b-4ec9-af0f-c2bc1ce32814"
      },
      "source": [
        "\n",
        "\n",
        "school = {'3б': 25, '3в': 27, '9а': 34, '9г': 30, '5а': 28, '5г': 30, '11a': 17,}\n",
        "\n",
        "\n",
        "# Новый класс\n",
        "\n",
        "new_class = {'4б': 36,}\n",
        "school.update(new_class)\n",
        "\n",
        "school"
      ],
      "execution_count": 72,
      "outputs": [
        {
          "output_type": "execute_result",
          "data": {
            "text/plain": [
              "{'11a': 17,\n",
              " '3б': 25,\n",
              " '3в': 27,\n",
              " '4б': 36,\n",
              " '5а': 28,\n",
              " '5г': 30,\n",
              " '9а': 34,\n",
              " '9г': 30}"
            ]
          },
          "metadata": {
            "tags": []
          },
          "execution_count": 72
        }
      ]
    },
    {
      "cell_type": "code",
      "metadata": {
        "id": "Qb1KP8qdxOIj",
        "colab_type": "code",
        "colab": {
          "base_uri": "https://localhost:8080/",
          "height": 34
        },
        "outputId": "d614be4b-61fa-4dff-90fb-b4eeb46308e2"
      },
      "source": [
        "# Удаление класса\n",
        "\n",
        "#school.popitem()\n",
        "deleted_class = school.pop('11a')\n",
        "\n",
        "school, deleted_class"
      ],
      "execution_count": 73,
      "outputs": [
        {
          "output_type": "execute_result",
          "data": {
            "text/plain": [
              "({'3б': 25, '3в': 27, '4б': 36, '5а': 28, '5г': 30, '9а': 34, '9г': 30}, 17)"
            ]
          },
          "metadata": {
            "tags": []
          },
          "execution_count": 73
        }
      ]
    },
    {
      "cell_type": "code",
      "metadata": {
        "id": "2hUIjapFycwb",
        "colab_type": "code",
        "colab": {
          "base_uri": "https://localhost:8080/",
          "height": 34
        },
        "outputId": "9b295032-9531-4e00-a722-56a07899ed2f"
      },
      "source": [
        "# Изменение количества учеников в классе\n",
        "\n",
        "new_class_1 = {'3б': 30}\n",
        "school.update(new_class_1)\n",
        "school"
      ],
      "execution_count": 75,
      "outputs": [
        {
          "output_type": "execute_result",
          "data": {
            "text/plain": [
              "{'3б': 30, '3в': 27, '4б': 36, '5а': 28, '5г': 30, '9а': 34, '9г': 30}"
            ]
          },
          "metadata": {
            "tags": []
          },
          "execution_count": 75
        }
      ]
    },
    {
      "cell_type": "code",
      "metadata": {
        "id": "z_NPe4kp1a7m",
        "colab_type": "code",
        "colab": {
          "base_uri": "https://localhost:8080/",
          "height": 34
        },
        "outputId": "ccea46f2-c6c8-49ac-cb6f-7cbe11372648"
      },
      "source": [
        "sum(school.values())"
      ],
      "execution_count": 79,
      "outputs": [
        {
          "output_type": "execute_result",
          "data": {
            "text/plain": [
              "215"
            ]
          },
          "metadata": {
            "tags": []
          },
          "execution_count": 79
        }
      ]
    }
  ]
}