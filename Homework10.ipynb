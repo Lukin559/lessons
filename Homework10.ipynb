{
  "nbformat": 4,
  "nbformat_minor": 0,
  "metadata": {
    "colab": {
      "name": "Homework10.ipynb",
      "provenance": [],
      "authorship_tag": "ABX9TyNVSZksX6P7nqdaBdFStAsz",
      "include_colab_link": true
    },
    "kernelspec": {
      "name": "python3",
      "display_name": "Python 3"
    }
  },
  "cells": [
    {
      "cell_type": "markdown",
      "metadata": {
        "id": "view-in-github",
        "colab_type": "text"
      },
      "source": [
        "<a href=\"https://colab.research.google.com/github/Lukin559/lessons/blob/master/Homework10.ipynb\" target=\"_parent\"><img src=\"https://colab.research.google.com/assets/colab-badge.svg\" alt=\"Open In Colab\"/></a>"
      ]
    },
    {
      "cell_type": "code",
      "metadata": {
        "id": "tXu0sIGsV_vu",
        "outputId": "21001354-8cd2-4652-99a3-290c35f07705",
        "colab": {
          "base_uri": "https://localhost:8080/",
          "height": 34
        }
      },
      "source": [
        "# union\n",
        "# isdisjoint\n",
        "set_1 = {1, 2}\n",
        "set_2 = {3}\n",
        "set_3 = {4, 5}\n",
        "set_4 = {3, 2, 6}\n",
        "set_5 = {6}\n",
        "set_6 = {7, 8}\n",
        "set_7 = {9, 8}\n",
        "\n",
        "\n",
        "\n",
        "x = set_1.isdisjoint(set_6)\n",
        "x\n"
      ],
      "execution_count": 50,
      "outputs": [
        {
          "output_type": "execute_result",
          "data": {
            "text/plain": [
              "True"
            ]
          },
          "metadata": {
            "tags": []
          },
          "execution_count": 50
        }
      ]
    },
    {
      "cell_type": "code",
      "metadata": {
        "id": "xOiZTKV_1h0t"
      },
      "source": [
        "set_1 = {1, 2}\n",
        "set_2 = {3}\n",
        "set_3 = {4, 5}\n",
        "set_4 = {3, 2, 6}\n",
        "set_5 = {6}\n",
        "set_6 = {7, 8}\n",
        "set_7 = {9, 8}\n",
        "set_8 = (set_1, set_2, set_3, set_4, set_5, set_6, set_7)\n",
        "\n",
        "for i in set_8:\n",
        "  if i.isdisjoint(i) == False:\n",
        "    i.update(i)\n",
        "    print(i)"
      ],
      "execution_count": null,
      "outputs": []
    },
    {
      "cell_type": "code",
      "metadata": {
        "id": "Tr9nCwdm1vm4",
        "outputId": "471be22b-a4a3-4972-9ff3-7d2d0f1dd284",
        "colab": {
          "base_uri": "https://localhost:8080/",
          "height": 34
        }
      },
      "source": [
        "stroka = \"Мармелад\"\n",
        "count = 0\n",
        "for i in range(len(stroka)):\n",
        "  if stroka[i] != stroka[i]:\n",
        "    count += 1\n",
        "\n",
        "count"
      ],
      "execution_count": 56,
      "outputs": [
        {
          "output_type": "execute_result",
          "data": {
            "text/plain": [
              "0"
            ]
          },
          "metadata": {
            "tags": []
          },
          "execution_count": 56
        }
      ]
    },
    {
      "cell_type": "code",
      "metadata": {
        "id": "goJtNzXr17_W",
        "outputId": "9c65f96f-a3ac-4939-8288-c12a393533a6",
        "colab": {
          "base_uri": "https://localhost:8080/",
          "height": 34
        }
      },
      "source": [
        "stroka = set(\"Мармелад\".lower())\n",
        "len(stroka)"
      ],
      "execution_count": 59,
      "outputs": [
        {
          "output_type": "execute_result",
          "data": {
            "text/plain": [
              "6"
            ]
          },
          "metadata": {
            "tags": []
          },
          "execution_count": 59
        }
      ]
    },
    {
      "cell_type": "code",
      "metadata": {
        "id": "0ZchDEA8dUZ2",
        "outputId": "7b1ba521-9fb7-4fad-df7c-90aa7dacf083",
        "colab": {
          "base_uri": "https://localhost:8080/",
          "height": 34
        }
      },
      "source": [
        "from random import randint\n",
        "\n",
        "a = [ randint (1, 20) for i in range(20) ]\n",
        "b = [ randint (1, 20) for i in range(20) ]\n",
        "a = set(a)\n",
        "b = set(b)\n",
        "x = a & b\n",
        "x = list(x)\n",
        "sorted(x)"
      ],
      "execution_count": 109,
      "outputs": [
        {
          "output_type": "execute_result",
          "data": {
            "text/plain": [
              "[1, 2, 4, 5, 6, 8, 9, 10, 14, 19, 20]"
            ]
          },
          "metadata": {
            "tags": []
          },
          "execution_count": 109
        }
      ]
    },
    {
      "cell_type": "code",
      "metadata": {
        "id": "XcvDCU-l5Qo4"
      },
      "source": [
        "def leap_year(x):\n",
        "  if x % 4 == 0 and not x % 100 == 0:\n",
        "      return True\n",
        "  elif  x % 400 == 0:\n",
        "      return True\n",
        "  else:\n",
        "      return False\n",
        "\n",
        "\n",
        "def is_it_real_date_or_no(day, month, year):\n",
        "  if day > 31 or day < 1:\n",
        "    return False\n",
        "  if month > 12 or month < 1:\n",
        "    return False\n",
        "  if year < 1:\n",
        "    return False\n",
        "# январь, март, май, июль, август, октябрь, декабрь\n",
        "  if month in ( 4, 6, 9, 11)\n",
        "\n",
        "# доделать месяцы с 30 дней и отдельно февраль\n",
        "# с вискосным годом и потом по плюсам \n",
        "\n"
      ],
      "execution_count": null,
      "outputs": []
    }
  ]
}